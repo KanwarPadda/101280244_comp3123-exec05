{
  "nbformat": 4,
  "nbformat_minor": 0,
  "metadata": {
    "colab": {
      "name": "Untitled4.ipynb",
      "provenance": [],
      "authorship_tag": "ABX9TyN6Q92VtFdErRKZMUODQ4C+",
      "include_colab_link": true
    },
    "kernelspec": {
      "name": "python3",
      "display_name": "Python 3"
    },
    "language_info": {
      "name": "python"
    }
  },
  "cells": [
    {
      "cell_type": "markdown",
      "metadata": {
        "id": "view-in-github",
        "colab_type": "text"
      },
      "source": [
        "<a href=\"https://colab.research.google.com/github/KanwarPadda/101280244_comp3123-exec05/blob/main/data_science_assignment_2.ipynb\" target=\"_parent\"><img src=\"https://colab.research.google.com/assets/colab-badge.svg\" alt=\"Open In Colab\"/></a>"
      ]
    },
    {
      "cell_type": "markdown",
      "metadata": {
        "id": "HFUKhuPpHLLF"
      },
      "source": [
        "PART 1"
      ]
    },
    {
      "cell_type": "code",
      "metadata": {
        "id": "LpCuXUhADe9n"
      },
      "source": [
        "from sklearn import tree"
      ],
      "execution_count": 73,
      "outputs": []
    },
    {
      "cell_type": "code",
      "metadata": {
        "id": "UpruHKCjD-gu"
      },
      "source": [
        "import pandas as pd "
      ],
      "execution_count": 74,
      "outputs": []
    },
    {
      "cell_type": "code",
      "metadata": {
        "id": "sZTFphzIEDdT"
      },
      "source": [
        "import numpy as np\n"
      ],
      "execution_count": 75,
      "outputs": []
    },
    {
      "cell_type": "code",
      "metadata": {
        "id": "EC_dGFC2EGEP"
      },
      "source": [
        "data = pd.read_csv('data.csv') "
      ],
      "execution_count": 76,
      "outputs": []
    },
    {
      "cell_type": "code",
      "metadata": {
        "id": "F6MQb61wEova"
      },
      "source": [
        "features = data.iloc[:,:-1]"
      ],
      "execution_count": 77,
      "outputs": []
    },
    {
      "cell_type": "code",
      "metadata": {
        "id": "2-VtMOzTE74j"
      },
      "source": [
        "lable = data.iloc[:,-1]"
      ],
      "execution_count": 78,
      "outputs": []
    },
    {
      "cell_type": "code",
      "metadata": {
        "id": "5beC1rRQFBBV"
      },
      "source": [
        "classify = tree.DecisionTreeClassifier()"
      ],
      "execution_count": 79,
      "outputs": []
    },
    {
      "cell_type": "code",
      "metadata": {
        "colab": {
          "base_uri": "https://localhost:8080/"
        },
        "id": "1A5t9hwrFT7n",
        "outputId": "fb13a73a-c601-47ae-9278-b4c1eefe47e7"
      },
      "source": [
        "classify.fit(features,lable)"
      ],
      "execution_count": 80,
      "outputs": [
        {
          "output_type": "execute_result",
          "data": {
            "text/plain": [
              "DecisionTreeClassifier(ccp_alpha=0.0, class_weight=None, criterion='gini',\n",
              "                       max_depth=None, max_features=None, max_leaf_nodes=None,\n",
              "                       min_impurity_decrease=0.0, min_impurity_split=None,\n",
              "                       min_samples_leaf=1, min_samples_split=2,\n",
              "                       min_weight_fraction_leaf=0.0, presort='deprecated',\n",
              "                       random_state=None, splitter='best')"
            ]
          },
          "metadata": {},
          "execution_count": 80
        }
      ]
    },
    {
      "cell_type": "code",
      "metadata": {
        "id": "F7-vawZqGKNf"
      },
      "source": [
        "test_1 = np.atleast_2d([5,1,15])"
      ],
      "execution_count": 81,
      "outputs": []
    },
    {
      "cell_type": "code",
      "metadata": {
        "id": "1Khf5mZ_GY46"
      },
      "source": [
        "test_2 = np.atleast_2d([20,0,5])"
      ],
      "execution_count": 82,
      "outputs": []
    },
    {
      "cell_type": "code",
      "metadata": {
        "id": "dFxJx5OJGeep"
      },
      "source": [
        "test_3 = np.atleast_2d([40,0,19])"
      ],
      "execution_count": 83,
      "outputs": []
    },
    {
      "cell_type": "code",
      "metadata": {
        "colab": {
          "base_uri": "https://localhost:8080/"
        },
        "id": "ZiVwhJBMGm-j",
        "outputId": "3fdce848-5800-4b85-fa94-8dc0fbf0f05f"
      },
      "source": [
        "predict_1 = classify.predict(test_1)\n",
        "print(predict_1)"
      ],
      "execution_count": 84,
      "outputs": [
        {
          "output_type": "stream",
          "name": "stdout",
          "text": [
            "[1]\n"
          ]
        }
      ]
    },
    {
      "cell_type": "code",
      "metadata": {
        "colab": {
          "base_uri": "https://localhost:8080/"
        },
        "id": "Pt5QZ-8DGyDF",
        "outputId": "adc9d068-c760-4387-cdb0-ed8867f54f81"
      },
      "source": [
        "predict_2 = classify.predict(test_2)\n",
        "print(predict_2)"
      ],
      "execution_count": 85,
      "outputs": [
        {
          "output_type": "stream",
          "name": "stdout",
          "text": [
            "[0]\n"
          ]
        }
      ]
    },
    {
      "cell_type": "code",
      "metadata": {
        "colab": {
          "base_uri": "https://localhost:8080/"
        },
        "id": "u27Cq1DFGzBi",
        "outputId": "4b22638a-74e7-48fd-d778-d715c8b774b0"
      },
      "source": [
        "predict_3 = classify.predict(test_3)\n",
        "print(predict_3)"
      ],
      "execution_count": 86,
      "outputs": [
        {
          "output_type": "stream",
          "name": "stdout",
          "text": [
            "[0]\n"
          ]
        }
      ]
    },
    {
      "cell_type": "markdown",
      "metadata": {
        "id": "co8faxCAHIR2"
      },
      "source": [
        "PART 2"
      ]
    },
    {
      "cell_type": "code",
      "metadata": {
        "id": "-ZTll14kHRYQ"
      },
      "source": [
        "from sklearn import tree"
      ],
      "execution_count": 87,
      "outputs": []
    },
    {
      "cell_type": "code",
      "metadata": {
        "id": "MpIySBgrHX9N"
      },
      "source": [
        "import pandas as pd "
      ],
      "execution_count": 88,
      "outputs": []
    },
    {
      "cell_type": "code",
      "metadata": {
        "id": "_oc25NHVHZS5"
      },
      "source": [
        "from sklearn.model_selection import train_test_split\n"
      ],
      "execution_count": 89,
      "outputs": []
    },
    {
      "cell_type": "code",
      "metadata": {
        "id": "e3vJQNVVJy73"
      },
      "source": [
        "data_covid = pd.read_csv('covid.csv') "
      ],
      "execution_count": 90,
      "outputs": []
    },
    {
      "cell_type": "code",
      "metadata": {
        "id": "V7WW72fxJ8Wd"
      },
      "source": [
        "features_covid = data_covid.iloc[:,:-1]"
      ],
      "execution_count": 91,
      "outputs": []
    },
    {
      "cell_type": "code",
      "metadata": {
        "id": "PD-5OLUoJ_uH"
      },
      "source": [
        "lable_covid = data_covid.iloc[:,-1]"
      ],
      "execution_count": 92,
      "outputs": []
    },
    {
      "cell_type": "code",
      "metadata": {
        "id": "s29oSumPKTC-"
      },
      "source": [
        "classify_covid = tree.DecisionTreeClassifier()"
      ],
      "execution_count": 93,
      "outputs": []
    },
    {
      "cell_type": "code",
      "metadata": {
        "id": "DIv7wxtIKk7C"
      },
      "source": [
        "features_train, features_test, lable_train, lable_test = train_test_split(features_covid, lable_covid,test_size = 0.3)"
      ],
      "execution_count": 94,
      "outputs": []
    },
    {
      "cell_type": "code",
      "metadata": {
        "colab": {
          "base_uri": "https://localhost:8080/"
        },
        "id": "qjMCm0_jLJiW",
        "outputId": "17ec9c48-bde2-4a47-9498-9a7ae3ae4e78"
      },
      "source": [
        "classify_covid.fit(features_train, lable_train)"
      ],
      "execution_count": 95,
      "outputs": [
        {
          "output_type": "execute_result",
          "data": {
            "text/plain": [
              "DecisionTreeClassifier(ccp_alpha=0.0, class_weight=None, criterion='gini',\n",
              "                       max_depth=None, max_features=None, max_leaf_nodes=None,\n",
              "                       min_impurity_decrease=0.0, min_impurity_split=None,\n",
              "                       min_samples_leaf=1, min_samples_split=2,\n",
              "                       min_weight_fraction_leaf=0.0, presort='deprecated',\n",
              "                       random_state=None, splitter='best')"
            ]
          },
          "metadata": {},
          "execution_count": 95
        }
      ]
    },
    {
      "cell_type": "code",
      "metadata": {
        "colab": {
          "base_uri": "https://localhost:8080/"
        },
        "id": "tWCjMZy3LMUW",
        "outputId": "a8232d91-90bc-4195-97c9-9711f1c3d842"
      },
      "source": [
        "predict_covid = classify_covid.predict(features_test)\n",
        "print(predict_covid)"
      ],
      "execution_count": 96,
      "outputs": [
        {
          "output_type": "stream",
          "name": "stdout",
          "text": [
            "[0 0 1 0 1 1 1 0 0]\n"
          ]
        }
      ]
    },
    {
      "cell_type": "code",
      "metadata": {
        "colab": {
          "base_uri": "https://localhost:8080/"
        },
        "id": "bf_ls4EjMqBi",
        "outputId": "aab70487-8a83-4362-e528-c85d497c5cf1"
      },
      "source": [
        "print(lable_test)"
      ],
      "execution_count": 97,
      "outputs": [
        {
          "output_type": "stream",
          "name": "stdout",
          "text": [
            "26    0\n",
            "0     0\n",
            "1     1\n",
            "25    0\n",
            "14    1\n",
            "6     1\n",
            "7     1\n",
            "23    0\n",
            "24    0\n",
            "Name: covid, dtype: int64\n"
          ]
        }
      ]
    },
    {
      "cell_type": "code",
      "metadata": {
        "id": "Gddndl_ZMxX1"
      },
      "source": [
        "from sklearn.metrics import accuracy_score"
      ],
      "execution_count": 98,
      "outputs": []
    },
    {
      "cell_type": "code",
      "metadata": {
        "colab": {
          "base_uri": "https://localhost:8080/"
        },
        "id": "2m-qtgdzM4Pz",
        "outputId": "01056ea1-f6bc-4815-c399-3eede030e43b"
      },
      "source": [
        "print(accuracy_score(lable_test, predict_covid))"
      ],
      "execution_count": 99,
      "outputs": [
        {
          "output_type": "stream",
          "name": "stdout",
          "text": [
            "1.0\n"
          ]
        }
      ]
    }
  ]
}